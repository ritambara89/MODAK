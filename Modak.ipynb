{
  "nbformat": 4,
  "nbformat_minor": 0,
  "metadata": {
    "colab": {
      "name": "Modak.ipynb",
      "provenance": [],
      "authorship_tag": "ABX9TyMkpbFXW6FpdGkwrRZNeUBM",
      "include_colab_link": true
    },
    "kernelspec": {
      "name": "python3",
      "display_name": "Python 3"
    },
    "accelerator": "GPU"
  },
  "cells": [
    {
      "cell_type": "markdown",
      "metadata": {
        "id": "view-in-github",
        "colab_type": "text"
      },
      "source": [
        "<a href=\"https://colab.research.google.com/github/ritambara89/wnr/blob/master/Modak.ipynb\" target=\"_parent\"><img src=\"https://colab.research.google.com/assets/colab-badge.svg\" alt=\"Open In Colab\"/></a>"
      ]
    },
    {
      "cell_type": "code",
      "metadata": {
        "id": "-V_XwyhO_3nd",
        "colab_type": "code",
        "colab": {
          "base_uri": "https://localhost:8080/",
          "height": 79
        },
        "outputId": "f54e4e6f-3b44-4e3e-e3d4-58d08935520d"
      },
      "source": [
        "from keras.preprocessing.image import ImageDataGenerator\n",
        "from keras.models import Sequential, Model\n",
        "from keras.layers import Dropout, Flatten, Dense\n",
        "from keras.applications.vgg16 import VGG16\n",
        "from keras.callbacks import ModelCheckpoint,EarlyStopping\n",
        "import os\n",
        "import matplotlib.pyplot as plt\n",
        "from IPython.display import Image"
      ],
      "execution_count": 5,
      "outputs": [
        {
          "output_type": "stream",
          "text": [
            "Using TensorFlow backend.\n"
          ],
          "name": "stderr"
        },
        {
          "output_type": "display_data",
          "data": {
            "text/html": [
              "<p style=\"color: red;\">\n",
              "The default version of TensorFlow in Colab will soon switch to TensorFlow 2.x.<br>\n",
              "We recommend you <a href=\"https://www.tensorflow.org/guide/migrate\" target=\"_blank\">upgrade</a> now \n",
              "or ensure your notebook will continue to use TensorFlow 1.x via the <code>%tensorflow_version 1.x</code> magic:\n",
              "<a href=\"https://colab.research.google.com/notebooks/tensorflow_version.ipynb\" target=\"_blank\">more info</a>.</p>\n"
            ],
            "text/plain": [
              "<IPython.core.display.HTML object>"
            ]
          },
          "metadata": {
            "tags": []
          }
        }
      ]
    },
    {
      "cell_type": "code",
      "metadata": {
        "id": "sbj59ZxI_-Bc",
        "colab_type": "code",
        "colab": {
          "base_uri": "https://localhost:8080/",
          "height": 121
        },
        "outputId": "177f25b1-dd96-4303-9fe3-630447fc5fd2"
      },
      "source": [
        "from google.colab import drive\n",
        "drive.mount('/content/drive')"
      ],
      "execution_count": 6,
      "outputs": [
        {
          "output_type": "stream",
          "text": [
            "Go to this URL in a browser: https://accounts.google.com/o/oauth2/auth?client_id=947318989803-6bn6qk8qdgf4n4g3pfee6491hc0brc4i.apps.googleusercontent.com&redirect_uri=urn%3aietf%3awg%3aoauth%3a2.0%3aoob&response_type=code&scope=email%20https%3a%2f%2fwww.googleapis.com%2fauth%2fdocs.test%20https%3a%2f%2fwww.googleapis.com%2fauth%2fdrive%20https%3a%2f%2fwww.googleapis.com%2fauth%2fdrive.photos.readonly%20https%3a%2f%2fwww.googleapis.com%2fauth%2fpeopleapi.readonly\n",
            "\n",
            "Enter your authorization code:\n",
            "··········\n",
            "Mounted at /content/drive\n"
          ],
          "name": "stdout"
        }
      ]
    },
    {
      "cell_type": "code",
      "metadata": {
        "id": "Ud4SmYbRALWh",
        "colab_type": "code",
        "colab": {}
      },
      "source": [
        "datagen = ImageDataGenerator(\n",
        "        rotation_range=40,\n",
        "        width_shift_range=0.2,\n",
        "        height_shift_range=0.2,\n",
        "        rescale=1./255,\n",
        "        shear_range=0.2,\n",
        "        zoom_range=0.2,\n",
        "        horizontal_flip=True,\n",
        "        fill_mode='nearest')"
      ],
      "execution_count": 0,
      "outputs": []
    },
    {
      "cell_type": "code",
      "metadata": {
        "id": "nRkr4hIaAQ69",
        "colab_type": "code",
        "colab": {
          "base_uri": "https://localhost:8080/",
          "height": 50
        },
        "outputId": "09994f5a-77c2-404d-9952-ea028ff7eb63"
      },
      "source": [
        "train = '/content/drive/My Drive/modak/train/'\n",
        "valid = '/content/drive/My Drive/modak/val/'\n",
        "batch_size = 32\n",
        "\n",
        "train_data = ImageDataGenerator(\n",
        "        rescale=1./255,\n",
        "        shear_range=0.2,\n",
        "        zoom_range=0.2,\n",
        "        horizontal_flip=True)\n",
        "\n",
        "# only rescaling\n",
        "test_data = ImageDataGenerator(rescale=1./255)\n",
        "\n",
        "# this is a generator that will read pictures found in\n",
        "# subfolers of 'data/train', and indefinitely generate\n",
        "# batches of augmented image data\n",
        "train_generator = train_datagen.flow_from_directory(\n",
        "        traindir,  # this is the target directory\n",
        "        target_size=(224, 224),  # all images will be resized to 224x224\n",
        "        batch_size=batch_size,\n",
        "        class_mode='binary')  # since we use binary_crossentropy loss, we need binary labels\n",
        "\n",
        "# this is a similar generator, for validation data\n",
        "validation_generator = test_datagen.flow_from_directory(\n",
        "        validdir,\n",
        "        target_size=(224, 224),\n",
        "        batch_size=batch_size,\n",
        "        class_mode='binary')"
      ],
      "execution_count": 8,
      "outputs": [
        {
          "output_type": "stream",
          "text": [
            "Found 2107 images belonging to 2 classes.\n",
            "Found 232 images belonging to 2 classes.\n"
          ],
          "name": "stdout"
        }
      ]
    },
    {
      "cell_type": "code",
      "metadata": {
        "id": "ZFkdYxgfAT79",
        "colab_type": "code",
        "colab": {
          "base_uri": "https://localhost:8080/",
          "height": 353
        },
        "outputId": "3266ddbe-556c-4ea6-ae9e-fe0523101368"
      },
      "source": [
        "backbone = VGG16(include_top=False, input_shape=(224, 224, 3))\n",
        "for layer in backbone.layers:\n",
        "  layer.trainable = False\n",
        "\n",
        "model = Sequential()\n",
        "model.add(backbone)\n",
        "model.add(Flatten())\n",
        "model.add(Dense(256,activation='relu'))\n",
        "model.add(Dense(256,activation='relu'))\n",
        "model.add(Dropout(0.1))\n",
        "model.add(Dense(1,activation='sigmoid'))\n",
        "\n",
        "model.compile(loss='binary_crossentropy',\n",
        "              optimizer='adam',\n",
        "              metrics=['accuracy'])\n",
        "\n",
        "model.summary()"
      ],
      "execution_count": 13,
      "outputs": [
        {
          "output_type": "stream",
          "text": [
            "Model: \"sequential_2\"\n",
            "_________________________________________________________________\n",
            "Layer (type)                 Output Shape              Param #   \n",
            "=================================================================\n",
            "vgg16 (Model)                (None, 7, 7, 512)         14714688  \n",
            "_________________________________________________________________\n",
            "flatten_2 (Flatten)          (None, 25088)             0         \n",
            "_________________________________________________________________\n",
            "dense_4 (Dense)              (None, 256)               6422784   \n",
            "_________________________________________________________________\n",
            "dense_5 (Dense)              (None, 256)               65792     \n",
            "_________________________________________________________________\n",
            "dropout_2 (Dropout)          (None, 256)               0         \n",
            "_________________________________________________________________\n",
            "dense_6 (Dense)              (None, 1)                 257       \n",
            "=================================================================\n",
            "Total params: 21,203,521\n",
            "Trainable params: 6,488,833\n",
            "Non-trainable params: 14,714,688\n",
            "_________________________________________________________________\n"
          ],
          "name": "stdout"
        }
      ]
    },
    {
      "cell_type": "code",
      "metadata": {
        "id": "bYJjXK6BAe_K",
        "colab_type": "code",
        "colab": {}
      },
      "source": [
        "\n",
        "checkpoint = ModelCheckpoint(filepath='modak_weights.h5', monitor='val_acc', verbose=1, save_best_only=True, mode='max')\n",
        "early_stopping = EarlyStopping(monitor='val_acc', patience=3, verbose=1, mode='max',restore_best_weights=True)"
      ],
      "execution_count": 0,
      "outputs": []
    },
    {
      "cell_type": "code",
      "metadata": {
        "id": "LZKszPznAnOI",
        "colab_type": "code",
        "colab": {
          "base_uri": "https://localhost:8080/",
          "height": 541
        },
        "outputId": "b32f63c5-e193-438e-e171-c34ff8c820f3"
      },
      "source": [
        "epochs=10\n",
        "history = model.fit_generator(train_generator,\n",
        "                    epochs=epochs,\n",
        "                    steps_per_epoch=2107 // batch_size,\n",
        "                    validation_data=validation_generator,\n",
        "                    validation_steps=232 // batch_size,\n",
        "                    callbacks=[checkpoint,early_stopping],\n",
        "                    verbose=1\n",
        "                   )"
      ],
      "execution_count": 12,
      "outputs": [
        {
          "output_type": "stream",
          "text": [
            "Epoch 1/10\n",
            " 2/65 [..............................] - ETA: 1:08 - loss: 0.0454 - acc: 0.9844"
          ],
          "name": "stdout"
        },
        {
          "output_type": "stream",
          "text": [
            "/usr/local/lib/python3.6/dist-packages/PIL/TiffImagePlugin.py:802: UserWarning: Corrupt EXIF data.  Expecting to read 4 bytes but only got 0. \n",
            "  warnings.warn(str(msg))\n"
          ],
          "name": "stderr"
        },
        {
          "output_type": "stream",
          "text": [
            "33/65 [==============>...............] - ETA: 24s - loss: 0.0981 - acc: 0.9650"
          ],
          "name": "stdout"
        },
        {
          "output_type": "stream",
          "text": [
            "/usr/local/lib/python3.6/dist-packages/PIL/Image.py:989: UserWarning: Palette images with Transparency expressed in bytes should be converted to RGBA images\n",
            "  \"Palette images with Transparency expressed in bytes should be \"\n"
          ],
          "name": "stderr"
        },
        {
          "output_type": "stream",
          "text": [
            "65/65 [==============================] - 46s 712ms/step - loss: 0.1072 - acc: 0.9599 - val_loss: 0.0909 - val_acc: 0.9688\n",
            "\n",
            "Epoch 00001: val_acc did not improve from 0.97000\n",
            "Epoch 2/10\n",
            "65/65 [==============================] - 46s 712ms/step - loss: 0.0934 - acc: 0.9625 - val_loss: 0.0561 - val_acc: 0.9700\n",
            "\n",
            "Epoch 00002: val_acc did not improve from 0.97000\n",
            "Epoch 3/10\n",
            "65/65 [==============================] - 46s 714ms/step - loss: 0.0936 - acc: 0.9625 - val_loss: 0.0376 - val_acc: 0.9850\n",
            "\n",
            "Epoch 00003: val_acc improved from 0.97000 to 0.98500, saving model to modak_best_weights.h5\n",
            "Epoch 4/10\n",
            "65/65 [==============================] - 46s 711ms/step - loss: 0.1159 - acc: 0.9546 - val_loss: 0.0879 - val_acc: 0.9650\n",
            "\n",
            "Epoch 00004: val_acc did not improve from 0.98500\n",
            "Epoch 5/10\n",
            "65/65 [==============================] - 45s 691ms/step - loss: 0.0439 - acc: 0.9884 - val_loss: 0.0758 - val_acc: 0.9700\n",
            "\n",
            "Epoch 00005: val_acc did not improve from 0.98500\n",
            "Epoch 6/10\n",
            "65/65 [==============================] - 46s 708ms/step - loss: 0.0538 - acc: 0.9783 - val_loss: 0.0727 - val_acc: 0.9600\n",
            "\n",
            "Epoch 00006: val_acc did not improve from 0.98500\n",
            "Restoring model weights from the end of the best epoch\n",
            "Epoch 00006: early stopping\n"
          ],
          "name": "stdout"
        }
      ]
    }
  ]
}